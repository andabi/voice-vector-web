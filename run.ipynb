{
 "cells": [
  {
   "cell_type": "code",
   "execution_count": null,
   "metadata": {},
   "outputs": [
    {
     "name": "stderr",
     "output_type": "stream",
     "text": [
      " * Running on http://0.0.0.0:1044/ (Press CTRL+C to quit)\n",
      "172.28.11.101 - - [05/Mar/2018 18:05:23] \"\u001b[37mGET / HTTP/1.1\u001b[0m\" 200 -\n",
      "172.28.11.101 - - [05/Mar/2018 18:06:54] code 400, message Bad request syntax ('\\x16\\x03\\x01\\x00Ó\\x01\\x00\\x00Ï\\x03\\x03ds\\x88&2|À\\x8d\\x11\\x84òñ\\x82½\\x9eº')\n",
      "172.28.11.101 - - [05/Mar/2018 18:06:54] code 400, message Bad HTTP/0.9 request type ('\\x16\\x03\\x01\\x00Ó\\x01\\x00\\x00Ï\\x03\\x03\\x84ÿXâréò$6\\x95\\x18\\x9f¹øê\\x93\\\\\\x81\\x0e\\x9bJFóÅÍÍ;®Mú´Ê\\x00\\x00')\n",
      "172.28.11.101 - - [05/Mar/2018 18:06:54] \"\u001b[1m\u001b[35m\u0016\u0003\u0001\u0000Ó\u0001\u0000\u0000Ï\u0003\u0003ds&2|À\u0011òñ½º\u001b[0m\" HTTPStatus.BAD_REQUEST -\n",
      "172.28.11.101 - - [05/Mar/2018 18:06:54] \"\u001b[1m\u001b[35m\u0016\u0003\u0001\u0000Ó\u0001\u0000\u0000Ï\u0003\u0003ÿXâréò$6\u0018¹øê\\\u000eJFóÅÍÍ;®Mú´Ê\u0000\u0000\u001c",
      "À+À/À,À0Ì©Ì¨À\u0013À\u0014\u0000\u0000\u0000/\u00005\u0000\u001b[0m\" HTTPStatus.BAD_REQUEST -\n"
     ]
    }
   ],
   "source": [
    "from vvapp import app\n",
    "\n",
    "if __name__ == \"__main__\":\n",
    "    app.run(host='0.0.0.0', port=1044, threaded=True)"
   ]
  },
  {
   "cell_type": "code",
   "execution_count": null,
   "metadata": {
    "collapsed": true
   },
   "outputs": [],
   "source": []
  }
 ],
 "metadata": {
  "kernelspec": {
   "display_name": "Python 3",
   "language": "python",
   "name": "python3"
  },
  "language_info": {
   "codemirror_mode": {
    "name": "ipython",
    "version": 3
   },
   "file_extension": ".py",
   "mimetype": "text/x-python",
   "name": "python",
   "nbconvert_exporter": "python",
   "pygments_lexer": "ipython3",
   "version": "3.5.2"
  }
 },
 "nbformat": 4,
 "nbformat_minor": 2
}
