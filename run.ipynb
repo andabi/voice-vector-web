{
 "cells": [
  {
   "cell_type": "code",
   "execution_count": null,
   "metadata": {
    "scrolled": true
   },
   "outputs": [
    {
     "name": "stderr",
     "output_type": "stream",
     "text": [
      " * Running on http://0.0.0.0:1044/ (Press CTRL+C to quit)\n",
      "[2018-03-12 16:00:15,407] ERROR in app: Exception on /process [GET]\n",
      "Traceback (most recent call last):\n",
      "  File \"/usr/local/lib/python3.5/dist-packages/flask/app.py\", line 1982, in wsgi_app\n",
      "    response = self.full_dispatch_request()\n",
      "  File \"/usr/local/lib/python3.5/dist-packages/flask/app.py\", line 1614, in full_dispatch_request\n",
      "    rv = self.handle_user_exception(e)\n",
      "  File \"/usr/local/lib/python3.5/dist-packages/flask/app.py\", line 1517, in handle_user_exception\n",
      "    reraise(exc_type, exc_value, tb)\n",
      "  File \"/usr/local/lib/python3.5/dist-packages/flask/_compat.py\", line 33, in reraise\n",
      "    raise value\n",
      "  File \"/usr/local/lib/python3.5/dist-packages/flask/app.py\", line 1612, in full_dispatch_request\n",
      "    rv = self.dispatch_request()\n",
      "  File \"/usr/local/lib/python3.5/dist-packages/flask/app.py\", line 1598, in dispatch_request\n",
      "    return self.view_functions[rule.endpoint](**req.view_args)\n",
      "  File \"/root/voice-vector-web/vvapp/views.py\", line 26, in api_process\n",
      "    return jsonify(response)\n",
      "  File \"/usr/local/lib/python3.5/dist-packages/flask/json.py\", line 263, in jsonify\n",
      "    (dumps(data, indent=indent, separators=separators), '\\n'),\n",
      "  File \"/usr/local/lib/python3.5/dist-packages/flask/json.py\", line 123, in dumps\n",
      "    rv = _json.dumps(obj, **kwargs)\n",
      "  File \"/usr/lib/python3.5/json/__init__.py\", line 237, in dumps\n",
      "    **kw).encode(obj)\n",
      "  File \"/usr/lib/python3.5/json/encoder.py\", line 200, in encode\n",
      "    chunks = list(chunks)\n",
      "  File \"/usr/lib/python3.5/json/encoder.py\", line 436, in _iterencode\n",
      "    o = _default(o)\n",
      "  File \"/usr/local/lib/python3.5/dist-packages/flask/json.py\", line 80, in default\n",
      "    return _json.JSONEncoder.default(self, o)\n",
      "  File \"/usr/lib/python3.5/json/encoder.py\", line 179, in default\n",
      "    raise TypeError(repr(o) + \" is not JSON serializable\")\n",
      "TypeError: array([  2.40560526e-37,   3.57736221e-29,   0.00000000e+00, ...,\n",
      "         3.55595745e-23,   1.28708883e-20,   1.29657671e-25]) is not JSON serializable\n",
      "10.194.26.52 - - [12/Mar/2018 16:00:15] \"\u001b[1m\u001b[35mGET /process HTTP/1.1\u001b[0m\" 500 -\n"
     ]
    }
   ],
   "source": [
    "from vvapp import app\n",
    "\n",
    "if __name__ == \"__main__\":\n",
    "    app.run(host='0.0.0.0', port=1044, threaded=True)"
   ]
  },
  {
   "cell_type": "code",
   "execution_count": null,
   "metadata": {
    "collapsed": true
   },
   "outputs": [],
   "source": []
  }
 ],
 "metadata": {
  "kernelspec": {
   "display_name": "Python 3",
   "language": "python",
   "name": "python3"
  },
  "language_info": {
   "codemirror_mode": {
    "name": "ipython",
    "version": 3
   },
   "file_extension": ".py",
   "mimetype": "text/x-python",
   "name": "python",
   "nbconvert_exporter": "python",
   "pygments_lexer": "ipython3",
   "version": "3.5.2"
  }
 },
 "nbformat": 4,
 "nbformat_minor": 2
}
