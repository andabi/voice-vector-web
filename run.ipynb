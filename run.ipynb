{
 "cells": [
  {
   "cell_type": "code",
   "execution_count": null,
   "metadata": {},
   "outputs": [
    {
     "name": "stderr",
     "output_type": "stream",
     "text": [
      " * Running on http://0.0.0.0:1044/ (Press CTRL+C to quit)\n",
      "10.194.26.50 - - [08/Mar/2018 14:13:21] \"\u001b[37mGET / HTTP/1.1\u001b[0m\" 200 -\n",
      "10.194.26.50 - - [08/Mar/2018 14:13:22] \"\u001b[37mGET /static/boot/css/bootstrap.min.css HTTP/1.1\u001b[0m\" 200 -\n",
      "10.194.26.50 - - [08/Mar/2018 14:13:22] \"\u001b[37mGET /static/css/index.css HTTP/1.1\u001b[0m\" 200 -\n",
      "10.194.26.50 - - [08/Mar/2018 14:13:22] \"\u001b[37mGET /static/css/base.css HTTP/1.1\u001b[0m\" 200 -\n",
      "10.194.26.55 - - [08/Mar/2018 14:13:22] \"\u001b[37mGET /static/js/recorderjs/recorder.js HTTP/1.1\u001b[0m\" 200 -\n",
      "10.194.26.56 - - [08/Mar/2018 14:13:22] \"\u001b[37mGET /static/js/audiodisplay.js HTTP/1.1\u001b[0m\" 200 -\n",
      "10.194.26.52 - - [08/Mar/2018 14:13:22] \"\u001b[37mGET /static/js/main.js HTTP/1.1\u001b[0m\" 200 -\n",
      "10.194.26.49 - - [08/Mar/2018 14:13:22] \"\u001b[37mGET /static/boot/js/bootstrap.min.js HTTP/1.1\u001b[0m\" 200 -\n"
     ]
    }
   ],
   "source": [
    "from vvapp import app\n",
    "\n",
    "if __name__ == \"__main__\":\n",
    "    app.run(host='0.0.0.0', port=1044, threaded=True)"
   ]
  },
  {
   "cell_type": "code",
   "execution_count": null,
   "metadata": {
    "collapsed": true
   },
   "outputs": [],
   "source": []
  }
 ],
 "metadata": {
  "kernelspec": {
   "display_name": "Python 3",
   "language": "python",
   "name": "python3"
  },
  "language_info": {
   "codemirror_mode": {
    "name": "ipython",
    "version": 3
   },
   "file_extension": ".py",
   "mimetype": "text/x-python",
   "name": "python",
   "nbconvert_exporter": "python",
   "pygments_lexer": "ipython3",
   "version": "3.5.2"
  }
 },
 "nbformat": 4,
 "nbformat_minor": 2
}
