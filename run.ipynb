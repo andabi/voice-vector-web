{
 "cells": [
  {
   "cell_type": "code",
   "execution_count": null,
   "metadata": {
    "scrolled": true
   },
   "outputs": [
    {
     "name": "stderr",
     "output_type": "stream",
     "text": [
      " * Running on http://0.0.0.0:1044/ (Press CTRL+C to quit)\n"
     ]
    },
    {
     "name": "stdout",
     "output_type": "stream",
     "text": [
      "warmed up!\n"
     ]
    },
    {
     "name": "stderr",
     "output_type": "stream",
     "text": [
      "10.194.26.52 - - [12/Mar/2018 21:30:30] \"\u001b[37mGET / HTTP/1.1\u001b[0m\" 200 -\n",
      "10.194.26.52 - - [12/Mar/2018 21:30:31] \"\u001b[33mGET /static/images/favicon.ico HTTP/1.1\u001b[0m\" 404 -\n",
      "10.194.26.52 - - [12/Mar/2018 21:30:35] \"\u001b[37mPOST /api HTTP/1.1\u001b[0m\" 200 -\n",
      "10.194.26.52 - - [12/Mar/2018 21:30:39] \"\u001b[37mPOST /api HTTP/1.1\u001b[0m\" 200 -\n",
      "10.194.26.54 - - [12/Mar/2018 21:39:58] \"\u001b[37mGET / HTTP/1.1\u001b[0m\" 200 -\n",
      "10.194.26.54 - - [12/Mar/2018 21:39:58] \"\u001b[37mGET /static/boot/css/bootstrap.min.css HTTP/1.1\u001b[0m\" 200 -\n",
      "10.194.26.54 - - [12/Mar/2018 21:39:58] \"\u001b[37mGET /static/css/base.css HTTP/1.1\u001b[0m\" 200 -\n",
      "10.194.26.55 - - [12/Mar/2018 21:39:58] \"\u001b[37mGET /static/css/index.css HTTP/1.1\u001b[0m\" 200 -\n",
      "10.194.26.52 - - [12/Mar/2018 21:39:58] \"\u001b[37mGET /static/js/audiodisplay.js HTTP/1.1\u001b[0m\" 200 -\n",
      "10.194.26.53 - - [12/Mar/2018 21:39:58] \"\u001b[37mGET /static/js/recorderjs/recorder.js HTTP/1.1\u001b[0m\" 200 -\n",
      "10.194.26.51 - - [12/Mar/2018 21:39:58] \"\u001b[37mGET /static/js/main.js HTTP/1.1\u001b[0m\" 200 -\n",
      "10.194.26.51 - - [12/Mar/2018 21:39:58] \"\u001b[37mGET /static/boot/js/bootstrap.min.js HTTP/1.1\u001b[0m\" 200 -\n",
      "10.194.26.54 - - [12/Mar/2018 21:41:49] \"\u001b[37mGET / HTTP/1.1\u001b[0m\" 200 -\n",
      "10.194.26.54 - - [12/Mar/2018 21:41:49] \"\u001b[37mGET /static/boot/css/bootstrap.min.css HTTP/1.1\u001b[0m\" 200 -\n",
      "10.194.26.54 - - [12/Mar/2018 21:41:49] \"\u001b[37mGET /static/css/base.css HTTP/1.1\u001b[0m\" 200 -\n",
      "10.194.26.50 - - [12/Mar/2018 21:41:49] \"\u001b[37mGET /static/js/audiodisplay.js HTTP/1.1\u001b[0m\" 200 -\n",
      "10.194.26.51 - - [12/Mar/2018 21:41:49] \"\u001b[37mGET /static/css/index.css HTTP/1.1\u001b[0m\" 200 -\n",
      "10.194.26.54 - - [12/Mar/2018 21:41:49] \"\u001b[37mGET /static/boot/js/bootstrap.min.js HTTP/1.1\u001b[0m\" 200 -\n",
      "10.194.26.53 - - [12/Mar/2018 21:41:49] \"\u001b[37mGET /static/js/recorderjs/recorder.js HTTP/1.1\u001b[0m\" 200 -\n",
      "10.194.26.56 - - [12/Mar/2018 21:41:49] \"\u001b[37mGET /static/js/main.js HTTP/1.1\u001b[0m\" 200 -\n",
      "10.194.26.56 - - [12/Mar/2018 21:45:23] \"\u001b[37mGET / HTTP/1.1\u001b[0m\" 200 -\n",
      "10.194.26.56 - - [12/Mar/2018 21:45:23] \"\u001b[37mGET /static/boot/css/bootstrap.min.css HTTP/1.1\u001b[0m\" 200 -\n",
      "10.194.26.56 - - [12/Mar/2018 21:45:23] \"\u001b[37mGET /static/css/index.css HTTP/1.1\u001b[0m\" 200 -\n",
      "10.194.26.52 - - [12/Mar/2018 21:45:23] \"\u001b[37mGET /static/css/base.css HTTP/1.1\u001b[0m\" 200 -\n",
      "10.194.26.54 - - [12/Mar/2018 21:45:23] \"\u001b[37mGET /static/js/recorderjs/recorder.js HTTP/1.1\u001b[0m\" 200 -\n",
      "10.194.26.53 - - [12/Mar/2018 21:45:23] \"\u001b[37mGET /static/js/main.js HTTP/1.1\u001b[0m\" 200 -\n",
      "10.194.26.55 - - [12/Mar/2018 21:45:23] \"\u001b[37mGET /static/js/audiodisplay.js HTTP/1.1\u001b[0m\" 200 -\n",
      "10.194.26.54 - - [12/Mar/2018 21:45:23] \"\u001b[37mGET /static/boot/js/bootstrap.min.js HTTP/1.1\u001b[0m\" 200 -\n",
      "10.194.26.52 - - [12/Mar/2018 21:46:39] \"\u001b[37mGET / HTTP/1.1\u001b[0m\" 200 -\n",
      "10.194.26.52 - - [12/Mar/2018 21:46:39] \"\u001b[37mGET /static/boot/css/bootstrap.min.css HTTP/1.1\u001b[0m\" 200 -\n",
      "10.194.26.52 - - [12/Mar/2018 21:46:39] \"\u001b[37mGET /static/css/base.css HTTP/1.1\u001b[0m\" 200 -\n",
      "10.194.26.50 - - [12/Mar/2018 21:46:39] \"\u001b[37mGET /static/css/index.css HTTP/1.1\u001b[0m\" 200 -\n",
      "10.194.26.54 - - [12/Mar/2018 21:46:39] \"\u001b[37mGET /static/js/audiodisplay.js HTTP/1.1\u001b[0m\" 200 -\n",
      "10.194.26.50 - - [12/Mar/2018 21:46:39] \"\u001b[37mGET /static/js/main.js HTTP/1.1\u001b[0m\" 200 -\n",
      "10.194.26.53 - - [12/Mar/2018 21:46:39] \"\u001b[37mGET /static/js/recorderjs/recorder.js HTTP/1.1\u001b[0m\" 200 -\n",
      "10.194.26.51 - - [12/Mar/2018 21:46:39] \"\u001b[37mGET /static/boot/js/bootstrap.min.js HTTP/1.1\u001b[0m\" 200 -\n",
      "10.194.26.51 - - [12/Mar/2018 21:47:02] \"\u001b[37mGET / HTTP/1.1\u001b[0m\" 200 -\n",
      "10.194.26.53 - - [12/Mar/2018 21:47:02] \"\u001b[37mGET /static/css/base.css HTTP/1.1\u001b[0m\" 200 -\n",
      "10.194.26.54 - - [12/Mar/2018 21:47:02] \"\u001b[37mGET /static/js/audiodisplay.js HTTP/1.1\u001b[0m\" 200 -\n",
      "10.194.26.50 - - [12/Mar/2018 21:47:02] \"\u001b[37mGET /static/css/index.css HTTP/1.1\u001b[0m\" 200 -\n",
      "10.194.26.50 - - [12/Mar/2018 21:47:02] \"\u001b[37mGET /static/js/recorderjs/recorder.js HTTP/1.1\u001b[0m\" 200 -\n",
      "10.194.26.52 - - [12/Mar/2018 21:47:02] \"\u001b[37mGET /static/js/main.js HTTP/1.1\u001b[0m\" 200 -\n",
      "10.194.26.51 - - [12/Mar/2018 21:47:02] \"\u001b[37mGET /static/boot/css/bootstrap.min.css HTTP/1.1\u001b[0m\" 200 -\n",
      "10.194.26.53 - - [12/Mar/2018 21:47:02] \"\u001b[37mGET /static/boot/js/bootstrap.min.js HTTP/1.1\u001b[0m\" 200 -\n",
      "10.194.26.53 - - [12/Mar/2018 21:47:14] \"\u001b[37mGET / HTTP/1.1\u001b[0m\" 200 -\n",
      "10.194.26.52 - - [12/Mar/2018 21:47:14] \"\u001b[37mGET /static/css/index.css HTTP/1.1\u001b[0m\" 200 -\n",
      "10.194.26.51 - - [12/Mar/2018 21:47:14] \"\u001b[37mGET /static/css/base.css HTTP/1.1\u001b[0m\" 200 -\n",
      "10.194.26.50 - - [12/Mar/2018 21:47:14] \"\u001b[37mGET /static/js/recorderjs/recorder.js HTTP/1.1\u001b[0m\" 200 -\n",
      "10.194.26.50 - - [12/Mar/2018 21:47:14] \"\u001b[37mGET /static/js/audiodisplay.js HTTP/1.1\u001b[0m\" 200 -\n",
      "10.194.26.54 - - [12/Mar/2018 21:47:14] \"\u001b[37mGET /static/js/main.js HTTP/1.1\u001b[0m\" 200 -\n",
      "10.194.26.53 - - [12/Mar/2018 21:47:14] \"\u001b[37mGET /static/boot/css/bootstrap.min.css HTTP/1.1\u001b[0m\" 200 -\n",
      "10.194.26.52 - - [12/Mar/2018 21:47:14] \"\u001b[37mGET /static/boot/js/bootstrap.min.js HTTP/1.1\u001b[0m\" 200 -\n",
      "10.194.26.49 - - [12/Mar/2018 21:47:56] \"\u001b[37mGET / HTTP/1.1\u001b[0m\" 200 -\n",
      "10.194.26.49 - - [12/Mar/2018 21:47:56] \"\u001b[37mGET /static/boot/css/bootstrap.min.css HTTP/1.1\u001b[0m\" 200 -\n",
      "10.194.26.49 - - [12/Mar/2018 21:47:56] \"\u001b[37mGET /static/css/base.css HTTP/1.1\u001b[0m\" 200 -\n",
      "10.194.26.51 - - [12/Mar/2018 21:47:56] \"\u001b[37mGET /static/js/audiodisplay.js HTTP/1.1\u001b[0m\" 200 -\n",
      "10.194.26.56 - - [12/Mar/2018 21:47:56] \"\u001b[37mGET /static/css/index.css HTTP/1.1\u001b[0m\" 200 -\n",
      "10.194.26.50 - - [12/Mar/2018 21:47:56] \"\u001b[37mGET /static/js/recorderjs/recorder.js HTTP/1.1\u001b[0m\" 200 -\n",
      "10.194.26.55 - - [12/Mar/2018 21:47:56] \"\u001b[37mGET /static/js/main.js HTTP/1.1\u001b[0m\" 200 -\n",
      "10.194.26.49 - - [12/Mar/2018 21:47:56] \"\u001b[37mGET /static/boot/js/bootstrap.min.js HTTP/1.1\u001b[0m\" 200 -\n",
      "10.194.26.49 - - [12/Mar/2018 21:48:15] \"\u001b[37mGET / HTTP/1.1\u001b[0m\" 200 -\n",
      "10.194.26.50 - - [12/Mar/2018 21:48:15] \"\u001b[37mGET /static/css/index.css HTTP/1.1\u001b[0m\" 200 -\n",
      "10.194.26.56 - - [12/Mar/2018 21:48:15] \"\u001b[37mGET /static/js/audiodisplay.js HTTP/1.1\u001b[0m\" 200 -\n",
      "10.194.26.49 - - [12/Mar/2018 21:48:15] \"\u001b[37mGET /static/js/main.js HTTP/1.1\u001b[0m\" 200 -\n",
      "10.194.26.51 - - [12/Mar/2018 21:48:15] \"\u001b[37mGET /static/js/recorderjs/recorder.js HTTP/1.1\u001b[0m\" 200 -\n",
      "10.194.26.55 - - [12/Mar/2018 21:48:15] \"\u001b[37mGET /static/css/base.css HTTP/1.1\u001b[0m\" 200 -\n",
      "10.194.26.49 - - [12/Mar/2018 21:48:15] \"\u001b[37mGET /static/boot/css/bootstrap.min.css HTTP/1.1\u001b[0m\" 200 -\n",
      "10.194.26.50 - - [12/Mar/2018 21:48:15] \"\u001b[37mGET /static/boot/js/bootstrap.min.js HTTP/1.1\u001b[0m\" 200 -\n",
      "10.194.26.53 - - [12/Mar/2018 21:49:44] \"\u001b[37mGET / HTTP/1.1\u001b[0m\" 200 -\n",
      "10.194.26.53 - - [12/Mar/2018 21:49:44] \"\u001b[37mGET /static/boot/css/bootstrap.min.css HTTP/1.1\u001b[0m\" 200 -\n",
      "10.194.26.54 - - [12/Mar/2018 21:49:44] \"\u001b[37mGET /static/css/index.css HTTP/1.1\u001b[0m\" 200 -\n",
      "10.194.26.53 - - [12/Mar/2018 21:49:44] \"\u001b[37mGET /static/css/base.css HTTP/1.1\u001b[0m\" 200 -\n",
      "10.194.26.56 - - [12/Mar/2018 21:49:44] \"\u001b[37mGET /static/js/audiodisplay.js HTTP/1.1\u001b[0m\" 200 -\n",
      "10.194.26.54 - - [12/Mar/2018 21:49:44] \"\u001b[37mGET /static/js/main.js HTTP/1.1\u001b[0m\" 200 -\n",
      "10.194.26.51 - - [12/Mar/2018 21:49:44] \"\u001b[37mGET /static/js/recorderjs/recorder.js HTTP/1.1\u001b[0m\" 200 -\n",
      "10.194.26.55 - - [12/Mar/2018 21:49:44] \"\u001b[37mGET /static/boot/js/bootstrap.min.js HTTP/1.1\u001b[0m\" 200 -\n"
     ]
    }
   ],
   "source": [
    "from vvapp import app\n",
    "\n",
    "if __name__ == \"__main__\":\n",
    "    app.run(host='0.0.0.0', port=1044, threaded=True)\n",
    "    #app.run(host='0.0.0.0', port=1044, threaded=True, debug=True)"
   ]
  },
  {
   "cell_type": "code",
   "execution_count": null,
   "metadata": {
    "collapsed": true
   },
   "outputs": [],
   "source": []
  }
 ],
 "metadata": {
  "kernelspec": {
   "display_name": "Python 3",
   "language": "python",
   "name": "python3"
  },
  "language_info": {
   "codemirror_mode": {
    "name": "ipython",
    "version": 3
   },
   "file_extension": ".py",
   "mimetype": "text/x-python",
   "name": "python",
   "nbconvert_exporter": "python",
   "pygments_lexer": "ipython3",
   "version": "3.5.2"
  }
 },
 "nbformat": 4,
 "nbformat_minor": 2
}
