{
 "cells": [
  {
   "cell_type": "code",
   "execution_count": null,
   "metadata": {
    "scrolled": true
   },
   "outputs": [
    {
     "name": "stderr",
     "output_type": "stream",
     "text": [
      " * Running on http://0.0.0.0:1044/ (Press CTRL+C to quit)\n"
     ]
    },
    {
     "name": "stdout",
     "output_type": "stream",
     "text": [
      "warmed up!\n"
     ]
    },
    {
     "name": "stderr",
     "output_type": "stream",
     "text": [
      "10.194.26.49 - - [19/Mar/2018 16:21:20] \"\u001b[37mGET / HTTP/1.1\u001b[0m\" 200 -\n",
      "10.194.26.49 - - [19/Mar/2018 16:21:20] \"\u001b[37mGET /static/boot/css/bootstrap.min.css HTTP/1.1\u001b[0m\" 200 -\n",
      "10.194.26.56 - - [19/Mar/2018 16:21:20] \"\u001b[37mGET /static/css/base.css HTTP/1.1\u001b[0m\" 200 -\n",
      "10.194.26.52 - - [19/Mar/2018 16:21:20] \"\u001b[37mGET /static/css/index.css HTTP/1.1\u001b[0m\" 200 -\n",
      "10.194.26.51 - - [19/Mar/2018 16:21:20] \"\u001b[37mGET /static/js/audiodisplay.js HTTP/1.1\u001b[0m\" 200 -\n",
      "10.194.26.50 - - [19/Mar/2018 16:21:20] \"\u001b[37mGET /static/js/recorderjs/recorder.js HTTP/1.1\u001b[0m\" 200 -\n",
      "10.194.26.53 - - [19/Mar/2018 16:21:20] \"\u001b[37mGET /static/js/main.js HTTP/1.1\u001b[0m\" 200 -\n",
      "10.194.26.53 - - [19/Mar/2018 16:21:20] \"\u001b[37mGET /static/boot/js/bootstrap.min.js HTTP/1.1\u001b[0m\" 200 -\n",
      "10.194.26.53 - - [19/Mar/2018 16:21:20] \"\u001b[37mGET /static/img/celeb_face/A.J._Buckley.jpg HTTP/1.1\u001b[0m\" 200 -\n",
      "10.194.26.53 - - [19/Mar/2018 16:21:26] \"\u001b[37mPOST /api HTTP/1.1\u001b[0m\" 200 -\n",
      "10.194.26.53 - - [19/Mar/2018 16:21:27] \"\u001b[37mGET /static/img/celeb_face/Sebastian_De_Souza.png HTTP/1.1\u001b[0m\" 200 -\n",
      "10.194.26.53 - - [19/Mar/2018 16:23:15] \"\u001b[37mGET / HTTP/1.1\u001b[0m\" 200 -\n",
      "10.194.26.53 - - [19/Mar/2018 16:23:27] \"\u001b[37mPOST /api HTTP/1.1\u001b[0m\" 200 -\n",
      "10.194.26.53 - - [19/Mar/2018 16:23:27] \"\u001b[37mGET /static/img/celeb_face/Ruby_Dee.png HTTP/1.1\u001b[0m\" 200 -\n",
      "10.194.26.53 - - [19/Mar/2018 16:23:45] \"\u001b[37mGET / HTTP/1.1\u001b[0m\" 200 -\n"
     ]
    }
   ],
   "source": [
    "from vvapp import app\n",
    "\n",
    "if __name__ == \"__main__\":\n",
    "    app.run(host='0.0.0.0', port=1044, threaded=True)\n",
    "    #app.run(host='0.0.0.0', port=1044, threaded=True, debug=True)"
   ]
  },
  {
   "cell_type": "code",
   "execution_count": null,
   "metadata": {
    "collapsed": true
   },
   "outputs": [],
   "source": []
  }
 ],
 "metadata": {
  "kernelspec": {
   "display_name": "Python 3",
   "language": "python",
   "name": "python3"
  },
  "language_info": {
   "codemirror_mode": {
    "name": "ipython",
    "version": 3
   },
   "file_extension": ".py",
   "mimetype": "text/x-python",
   "name": "python",
   "nbconvert_exporter": "python",
   "pygments_lexer": "ipython3",
   "version": "3.5.2"
  }
 },
 "nbformat": 4,
 "nbformat_minor": 2
}
